{
  "nbformat": 4,
  "nbformat_minor": 0,
  "metadata": {
    "colab": {
      "provenance": []
    },
    "kernelspec": {
      "name": "python3",
      "display_name": "Python 3"
    },
    "language_info": {
      "name": "python"
    }
  },
  "cells": [
    {
      "cell_type": "code",
      "execution_count": null,
      "metadata": {
        "colab": {
          "base_uri": "https://localhost:8080/",
          "height": 73
        },
        "id": "jtcHZA7TQjlk",
        "outputId": "df9532e6-a864-48c3-9329-30360a229574"
      },
      "outputs": [
        {
          "output_type": "display_data",
          "data": {
            "text/plain": [
              "<IPython.core.display.HTML object>"
            ],
            "text/html": [
              "\n",
              "     <input type=\"file\" id=\"files-8403698d-fc05-47f7-933e-9338917a198d\" name=\"files[]\" multiple disabled\n",
              "        style=\"border:none\" />\n",
              "     <output id=\"result-8403698d-fc05-47f7-933e-9338917a198d\">\n",
              "      Upload widget is only available when the cell has been executed in the\n",
              "      current browser session. Please rerun this cell to enable.\n",
              "      </output>\n",
              "      <script>// Copyright 2017 Google LLC\n",
              "//\n",
              "// Licensed under the Apache License, Version 2.0 (the \"License\");\n",
              "// you may not use this file except in compliance with the License.\n",
              "// You may obtain a copy of the License at\n",
              "//\n",
              "//      http://www.apache.org/licenses/LICENSE-2.0\n",
              "//\n",
              "// Unless required by applicable law or agreed to in writing, software\n",
              "// distributed under the License is distributed on an \"AS IS\" BASIS,\n",
              "// WITHOUT WARRANTIES OR CONDITIONS OF ANY KIND, either express or implied.\n",
              "// See the License for the specific language governing permissions and\n",
              "// limitations under the License.\n",
              "\n",
              "/**\n",
              " * @fileoverview Helpers for google.colab Python module.\n",
              " */\n",
              "(function(scope) {\n",
              "function span(text, styleAttributes = {}) {\n",
              "  const element = document.createElement('span');\n",
              "  element.textContent = text;\n",
              "  for (const key of Object.keys(styleAttributes)) {\n",
              "    element.style[key] = styleAttributes[key];\n",
              "  }\n",
              "  return element;\n",
              "}\n",
              "\n",
              "// Max number of bytes which will be uploaded at a time.\n",
              "const MAX_PAYLOAD_SIZE = 100 * 1024;\n",
              "\n",
              "function _uploadFiles(inputId, outputId) {\n",
              "  const steps = uploadFilesStep(inputId, outputId);\n",
              "  const outputElement = document.getElementById(outputId);\n",
              "  // Cache steps on the outputElement to make it available for the next call\n",
              "  // to uploadFilesContinue from Python.\n",
              "  outputElement.steps = steps;\n",
              "\n",
              "  return _uploadFilesContinue(outputId);\n",
              "}\n",
              "\n",
              "// This is roughly an async generator (not supported in the browser yet),\n",
              "// where there are multiple asynchronous steps and the Python side is going\n",
              "// to poll for completion of each step.\n",
              "// This uses a Promise to block the python side on completion of each step,\n",
              "// then passes the result of the previous step as the input to the next step.\n",
              "function _uploadFilesContinue(outputId) {\n",
              "  const outputElement = document.getElementById(outputId);\n",
              "  const steps = outputElement.steps;\n",
              "\n",
              "  const next = steps.next(outputElement.lastPromiseValue);\n",
              "  return Promise.resolve(next.value.promise).then((value) => {\n",
              "    // Cache the last promise value to make it available to the next\n",
              "    // step of the generator.\n",
              "    outputElement.lastPromiseValue = value;\n",
              "    return next.value.response;\n",
              "  });\n",
              "}\n",
              "\n",
              "/**\n",
              " * Generator function which is called between each async step of the upload\n",
              " * process.\n",
              " * @param {string} inputId Element ID of the input file picker element.\n",
              " * @param {string} outputId Element ID of the output display.\n",
              " * @return {!Iterable<!Object>} Iterable of next steps.\n",
              " */\n",
              "function* uploadFilesStep(inputId, outputId) {\n",
              "  const inputElement = document.getElementById(inputId);\n",
              "  inputElement.disabled = false;\n",
              "\n",
              "  const outputElement = document.getElementById(outputId);\n",
              "  outputElement.innerHTML = '';\n",
              "\n",
              "  const pickedPromise = new Promise((resolve) => {\n",
              "    inputElement.addEventListener('change', (e) => {\n",
              "      resolve(e.target.files);\n",
              "    });\n",
              "  });\n",
              "\n",
              "  const cancel = document.createElement('button');\n",
              "  inputElement.parentElement.appendChild(cancel);\n",
              "  cancel.textContent = 'Cancel upload';\n",
              "  const cancelPromise = new Promise((resolve) => {\n",
              "    cancel.onclick = () => {\n",
              "      resolve(null);\n",
              "    };\n",
              "  });\n",
              "\n",
              "  // Wait for the user to pick the files.\n",
              "  const files = yield {\n",
              "    promise: Promise.race([pickedPromise, cancelPromise]),\n",
              "    response: {\n",
              "      action: 'starting',\n",
              "    }\n",
              "  };\n",
              "\n",
              "  cancel.remove();\n",
              "\n",
              "  // Disable the input element since further picks are not allowed.\n",
              "  inputElement.disabled = true;\n",
              "\n",
              "  if (!files) {\n",
              "    return {\n",
              "      response: {\n",
              "        action: 'complete',\n",
              "      }\n",
              "    };\n",
              "  }\n",
              "\n",
              "  for (const file of files) {\n",
              "    const li = document.createElement('li');\n",
              "    li.append(span(file.name, {fontWeight: 'bold'}));\n",
              "    li.append(span(\n",
              "        `(${file.type || 'n/a'}) - ${file.size} bytes, ` +\n",
              "        `last modified: ${\n",
              "            file.lastModifiedDate ? file.lastModifiedDate.toLocaleDateString() :\n",
              "                                    'n/a'} - `));\n",
              "    const percent = span('0% done');\n",
              "    li.appendChild(percent);\n",
              "\n",
              "    outputElement.appendChild(li);\n",
              "\n",
              "    const fileDataPromise = new Promise((resolve) => {\n",
              "      const reader = new FileReader();\n",
              "      reader.onload = (e) => {\n",
              "        resolve(e.target.result);\n",
              "      };\n",
              "      reader.readAsArrayBuffer(file);\n",
              "    });\n",
              "    // Wait for the data to be ready.\n",
              "    let fileData = yield {\n",
              "      promise: fileDataPromise,\n",
              "      response: {\n",
              "        action: 'continue',\n",
              "      }\n",
              "    };\n",
              "\n",
              "    // Use a chunked sending to avoid message size limits. See b/62115660.\n",
              "    let position = 0;\n",
              "    do {\n",
              "      const length = Math.min(fileData.byteLength - position, MAX_PAYLOAD_SIZE);\n",
              "      const chunk = new Uint8Array(fileData, position, length);\n",
              "      position += length;\n",
              "\n",
              "      const base64 = btoa(String.fromCharCode.apply(null, chunk));\n",
              "      yield {\n",
              "        response: {\n",
              "          action: 'append',\n",
              "          file: file.name,\n",
              "          data: base64,\n",
              "        },\n",
              "      };\n",
              "\n",
              "      let percentDone = fileData.byteLength === 0 ?\n",
              "          100 :\n",
              "          Math.round((position / fileData.byteLength) * 100);\n",
              "      percent.textContent = `${percentDone}% done`;\n",
              "\n",
              "    } while (position < fileData.byteLength);\n",
              "  }\n",
              "\n",
              "  // All done.\n",
              "  yield {\n",
              "    response: {\n",
              "      action: 'complete',\n",
              "    }\n",
              "  };\n",
              "}\n",
              "\n",
              "scope.google = scope.google || {};\n",
              "scope.google.colab = scope.google.colab || {};\n",
              "scope.google.colab._files = {\n",
              "  _uploadFiles,\n",
              "  _uploadFilesContinue,\n",
              "};\n",
              "})(self);\n",
              "</script> "
            ]
          },
          "metadata": {}
        },
        {
          "output_type": "stream",
          "name": "stdout",
          "text": [
            "Saving Iris.csv to Iris.csv\n"
          ]
        }
      ],
      "source": [
        "from google.colab import files\n",
        "\n",
        "\n",
        "uploaded = files.upload()"
      ]
    },
    {
      "cell_type": "code",
      "source": [
        "import tensorflow as tf\n",
        "from tensorflow.keras import layers\n",
        "import pandas as pd\n",
        "import numpy as np\n",
        "from tensorflow.keras import datasets, layers, models\n",
        "from tensorflow.keras.utils import to_categorical\n",
        "import matplotlib.pyplot as plt\n",
        "import math"
      ],
      "metadata": {
        "id": "3JssIUTTRW2x"
      },
      "execution_count": null,
      "outputs": []
    },
    {
      "cell_type": "code",
      "source": [
        "df = pd.read_csv('Iris.csv')\n",
        "df.head()"
      ],
      "metadata": {
        "colab": {
          "base_uri": "https://localhost:8080/",
          "height": 206
        },
        "id": "GmMNlK3KRSyH",
        "outputId": "04289bf5-750b-4872-c7b3-34ca34d613ba"
      },
      "execution_count": null,
      "outputs": [
        {
          "output_type": "execute_result",
          "data": {
            "text/plain": [
              "   Id  SepalLengthCm  SepalWidthCm  PetalLengthCm  PetalWidthCm      Species\n",
              "0   1            5.1           3.5            1.4           0.2  Iris-setosa\n",
              "1   2            4.9           3.0            1.4           0.2  Iris-setosa\n",
              "2   3            4.7           3.2            1.3           0.2  Iris-setosa\n",
              "3   4            4.6           3.1            1.5           0.2  Iris-setosa\n",
              "4   5            5.0           3.6            1.4           0.2  Iris-setosa"
            ],
            "text/html": [
              "\n",
              "  <div id=\"df-ee12445f-abb6-43c2-9ce7-98faec52b4bc\">\n",
              "    <div class=\"colab-df-container\">\n",
              "      <div>\n",
              "<style scoped>\n",
              "    .dataframe tbody tr th:only-of-type {\n",
              "        vertical-align: middle;\n",
              "    }\n",
              "\n",
              "    .dataframe tbody tr th {\n",
              "        vertical-align: top;\n",
              "    }\n",
              "\n",
              "    .dataframe thead th {\n",
              "        text-align: right;\n",
              "    }\n",
              "</style>\n",
              "<table border=\"1\" class=\"dataframe\">\n",
              "  <thead>\n",
              "    <tr style=\"text-align: right;\">\n",
              "      <th></th>\n",
              "      <th>Id</th>\n",
              "      <th>SepalLengthCm</th>\n",
              "      <th>SepalWidthCm</th>\n",
              "      <th>PetalLengthCm</th>\n",
              "      <th>PetalWidthCm</th>\n",
              "      <th>Species</th>\n",
              "    </tr>\n",
              "  </thead>\n",
              "  <tbody>\n",
              "    <tr>\n",
              "      <th>0</th>\n",
              "      <td>1</td>\n",
              "      <td>5.1</td>\n",
              "      <td>3.5</td>\n",
              "      <td>1.4</td>\n",
              "      <td>0.2</td>\n",
              "      <td>Iris-setosa</td>\n",
              "    </tr>\n",
              "    <tr>\n",
              "      <th>1</th>\n",
              "      <td>2</td>\n",
              "      <td>4.9</td>\n",
              "      <td>3.0</td>\n",
              "      <td>1.4</td>\n",
              "      <td>0.2</td>\n",
              "      <td>Iris-setosa</td>\n",
              "    </tr>\n",
              "    <tr>\n",
              "      <th>2</th>\n",
              "      <td>3</td>\n",
              "      <td>4.7</td>\n",
              "      <td>3.2</td>\n",
              "      <td>1.3</td>\n",
              "      <td>0.2</td>\n",
              "      <td>Iris-setosa</td>\n",
              "    </tr>\n",
              "    <tr>\n",
              "      <th>3</th>\n",
              "      <td>4</td>\n",
              "      <td>4.6</td>\n",
              "      <td>3.1</td>\n",
              "      <td>1.5</td>\n",
              "      <td>0.2</td>\n",
              "      <td>Iris-setosa</td>\n",
              "    </tr>\n",
              "    <tr>\n",
              "      <th>4</th>\n",
              "      <td>5</td>\n",
              "      <td>5.0</td>\n",
              "      <td>3.6</td>\n",
              "      <td>1.4</td>\n",
              "      <td>0.2</td>\n",
              "      <td>Iris-setosa</td>\n",
              "    </tr>\n",
              "  </tbody>\n",
              "</table>\n",
              "</div>\n",
              "      <button class=\"colab-df-convert\" onclick=\"convertToInteractive('df-ee12445f-abb6-43c2-9ce7-98faec52b4bc')\"\n",
              "              title=\"Convert this dataframe to an interactive table.\"\n",
              "              style=\"display:none;\">\n",
              "        \n",
              "  <svg xmlns=\"http://www.w3.org/2000/svg\" height=\"24px\"viewBox=\"0 0 24 24\"\n",
              "       width=\"24px\">\n",
              "    <path d=\"M0 0h24v24H0V0z\" fill=\"none\"/>\n",
              "    <path d=\"M18.56 5.44l.94 2.06.94-2.06 2.06-.94-2.06-.94-.94-2.06-.94 2.06-2.06.94zm-11 1L8.5 8.5l.94-2.06 2.06-.94-2.06-.94L8.5 2.5l-.94 2.06-2.06.94zm10 10l.94 2.06.94-2.06 2.06-.94-2.06-.94-.94-2.06-.94 2.06-2.06.94z\"/><path d=\"M17.41 7.96l-1.37-1.37c-.4-.4-.92-.59-1.43-.59-.52 0-1.04.2-1.43.59L10.3 9.45l-7.72 7.72c-.78.78-.78 2.05 0 2.83L4 21.41c.39.39.9.59 1.41.59.51 0 1.02-.2 1.41-.59l7.78-7.78 2.81-2.81c.8-.78.8-2.07 0-2.86zM5.41 20L4 18.59l7.72-7.72 1.47 1.35L5.41 20z\"/>\n",
              "  </svg>\n",
              "      </button>\n",
              "      \n",
              "  <style>\n",
              "    .colab-df-container {\n",
              "      display:flex;\n",
              "      flex-wrap:wrap;\n",
              "      gap: 12px;\n",
              "    }\n",
              "\n",
              "    .colab-df-convert {\n",
              "      background-color: #E8F0FE;\n",
              "      border: none;\n",
              "      border-radius: 50%;\n",
              "      cursor: pointer;\n",
              "      display: none;\n",
              "      fill: #1967D2;\n",
              "      height: 32px;\n",
              "      padding: 0 0 0 0;\n",
              "      width: 32px;\n",
              "    }\n",
              "\n",
              "    .colab-df-convert:hover {\n",
              "      background-color: #E2EBFA;\n",
              "      box-shadow: 0px 1px 2px rgba(60, 64, 67, 0.3), 0px 1px 3px 1px rgba(60, 64, 67, 0.15);\n",
              "      fill: #174EA6;\n",
              "    }\n",
              "\n",
              "    [theme=dark] .colab-df-convert {\n",
              "      background-color: #3B4455;\n",
              "      fill: #D2E3FC;\n",
              "    }\n",
              "\n",
              "    [theme=dark] .colab-df-convert:hover {\n",
              "      background-color: #434B5C;\n",
              "      box-shadow: 0px 1px 3px 1px rgba(0, 0, 0, 0.15);\n",
              "      filter: drop-shadow(0px 1px 2px rgba(0, 0, 0, 0.3));\n",
              "      fill: #FFFFFF;\n",
              "    }\n",
              "  </style>\n",
              "\n",
              "      <script>\n",
              "        const buttonEl =\n",
              "          document.querySelector('#df-ee12445f-abb6-43c2-9ce7-98faec52b4bc button.colab-df-convert');\n",
              "        buttonEl.style.display =\n",
              "          google.colab.kernel.accessAllowed ? 'block' : 'none';\n",
              "\n",
              "        async function convertToInteractive(key) {\n",
              "          const element = document.querySelector('#df-ee12445f-abb6-43c2-9ce7-98faec52b4bc');\n",
              "          const dataTable =\n",
              "            await google.colab.kernel.invokeFunction('convertToInteractive',\n",
              "                                                     [key], {});\n",
              "          if (!dataTable) return;\n",
              "\n",
              "          const docLinkHtml = 'Like what you see? Visit the ' +\n",
              "            '<a target=\"_blank\" href=https://colab.research.google.com/notebooks/data_table.ipynb>data table notebook</a>'\n",
              "            + ' to learn more about interactive tables.';\n",
              "          element.innerHTML = '';\n",
              "          dataTable['output_type'] = 'display_data';\n",
              "          await google.colab.output.renderOutput(dataTable, element);\n",
              "          const docLink = document.createElement('div');\n",
              "          docLink.innerHTML = docLinkHtml;\n",
              "          element.appendChild(docLink);\n",
              "        }\n",
              "      </script>\n",
              "    </div>\n",
              "  </div>\n",
              "  "
            ]
          },
          "metadata": {},
          "execution_count": 3
        }
      ]
    },
    {
      "cell_type": "code",
      "source": [
        "X = df.iloc[:,1:5].values\n",
        "y = df.iloc[:,5].values"
      ],
      "metadata": {
        "id": "G5Q1boa1Roa6"
      },
      "execution_count": null,
      "outputs": []
    },
    {
      "cell_type": "code",
      "source": [
        "print(X[0:5])\n",
        "print(y[0:5])"
      ],
      "metadata": {
        "colab": {
          "base_uri": "https://localhost:8080/"
        },
        "id": "Q2DS2FkURaaT",
        "outputId": "51b54e0e-76af-4248-fdd1-527fae31b223"
      },
      "execution_count": null,
      "outputs": [
        {
          "output_type": "stream",
          "name": "stdout",
          "text": [
            "[[5.1 3.5 1.4 0.2]\n",
            " [4.9 3.  1.4 0.2]\n",
            " [4.7 3.2 1.3 0.2]\n",
            " [4.6 3.1 1.5 0.2]\n",
            " [5.  3.6 1.4 0.2]]\n",
            "['Iris-setosa' 'Iris-setosa' 'Iris-setosa' 'Iris-setosa' 'Iris-setosa']\n"
          ]
        }
      ]
    },
    {
      "cell_type": "code",
      "source": [
        "print(X.shape)\n",
        "print(y.shape)"
      ],
      "metadata": {
        "colab": {
          "base_uri": "https://localhost:8080/"
        },
        "id": "R5KCD9bbR9b6",
        "outputId": "e879d9bf-81a7-4f53-9b8b-f0f95ed8cac6"
      },
      "execution_count": null,
      "outputs": [
        {
          "output_type": "stream",
          "name": "stdout",
          "text": [
            "(150, 4)\n",
            "(150,)\n"
          ]
        }
      ]
    },
    {
      "cell_type": "code",
      "source": [
        "from sklearn.preprocessing import LabelEncoder\n",
        "encoder =  LabelEncoder()\n",
        "y1 = encoder.fit_transform(y)"
      ],
      "metadata": {
        "id": "UwBDQEV7SCSP"
      },
      "execution_count": null,
      "outputs": []
    },
    {
      "cell_type": "code",
      "source": [
        "y1"
      ],
      "metadata": {
        "colab": {
          "base_uri": "https://localhost:8080/"
        },
        "id": "_lFWBMSLSDOk",
        "outputId": "aa71c8e5-f8f4-4e66-98e8-eadd201c703c"
      },
      "execution_count": null,
      "outputs": [
        {
          "output_type": "execute_result",
          "data": {
            "text/plain": [
              "array([0, 0, 0, 0, 0, 0, 0, 0, 0, 0, 0, 0, 0, 0, 0, 0, 0, 0, 0, 0, 0, 0,\n",
              "       0, 0, 0, 0, 0, 0, 0, 0, 0, 0, 0, 0, 0, 0, 0, 0, 0, 0, 0, 0, 0, 0,\n",
              "       0, 0, 0, 0, 0, 0, 1, 1, 1, 1, 1, 1, 1, 1, 1, 1, 1, 1, 1, 1, 1, 1,\n",
              "       1, 1, 1, 1, 1, 1, 1, 1, 1, 1, 1, 1, 1, 1, 1, 1, 1, 1, 1, 1, 1, 1,\n",
              "       1, 1, 1, 1, 1, 1, 1, 1, 1, 1, 1, 1, 2, 2, 2, 2, 2, 2, 2, 2, 2, 2,\n",
              "       2, 2, 2, 2, 2, 2, 2, 2, 2, 2, 2, 2, 2, 2, 2, 2, 2, 2, 2, 2, 2, 2,\n",
              "       2, 2, 2, 2, 2, 2, 2, 2, 2, 2, 2, 2, 2, 2, 2, 2, 2, 2])"
            ]
          },
          "metadata": {},
          "execution_count": 8
        }
      ]
    },
    {
      "cell_type": "code",
      "source": [
        "Y = pd.get_dummies(y1).values\n",
        "print(Y[0:5])"
      ],
      "metadata": {
        "colab": {
          "base_uri": "https://localhost:8080/"
        },
        "id": "qH4ZH5YaSFnV",
        "outputId": "9e2416f0-9f26-4da0-ef8b-d7d0987778df"
      },
      "execution_count": null,
      "outputs": [
        {
          "output_type": "stream",
          "name": "stdout",
          "text": [
            "[[1 0 0]\n",
            " [1 0 0]\n",
            " [1 0 0]\n",
            " [1 0 0]\n",
            " [1 0 0]]\n"
          ]
        }
      ]
    },
    {
      "cell_type": "code",
      "source": [
        "from sklearn.model_selection import train_test_split"
      ],
      "metadata": {
        "id": "Zz5gVccTSOaM"
      },
      "execution_count": null,
      "outputs": []
    },
    {
      "cell_type": "code",
      "source": [
        "X_train, X_test, y_train, y_test = train_test_split(X, Y, test_size=0.2, random_state=0)"
      ],
      "metadata": {
        "id": "vt77ecQvSSzJ"
      },
      "execution_count": null,
      "outputs": []
    },
    {
      "cell_type": "code",
      "source": [
        "print(X_train[0:5])"
      ],
      "metadata": {
        "colab": {
          "base_uri": "https://localhost:8080/"
        },
        "id": "OJu7tZQZSVLa",
        "outputId": "6843c142-c065-4bb3-be48-9c0d60d2f212"
      },
      "execution_count": null,
      "outputs": [
        {
          "output_type": "stream",
          "name": "stdout",
          "text": [
            "[[6.4 3.1 5.5 1.8]\n",
            " [5.4 3.  4.5 1.5]\n",
            " [5.2 3.5 1.5 0.2]\n",
            " [6.1 3.  4.9 1.8]\n",
            " [6.4 2.8 5.6 2.2]]\n"
          ]
        }
      ]
    },
    {
      "cell_type": "code",
      "source": [
        "print(y_train[0:5])"
      ],
      "metadata": {
        "colab": {
          "base_uri": "https://localhost:8080/"
        },
        "id": "_75rxdrnSa6f",
        "outputId": "6793ca1e-2543-423c-c0fa-3d5d6d89d109"
      },
      "execution_count": null,
      "outputs": [
        {
          "output_type": "stream",
          "name": "stdout",
          "text": [
            "[[0 0 1]\n",
            " [0 1 0]\n",
            " [1 0 0]\n",
            " [0 0 1]\n",
            " [0 0 1]]\n"
          ]
        }
      ]
    },
    {
      "cell_type": "code",
      "source": [
        "print(X_test[0:5])"
      ],
      "metadata": {
        "colab": {
          "base_uri": "https://localhost:8080/"
        },
        "id": "E3P8SmkASe7I",
        "outputId": "f67b1f3c-b56c-434b-827f-fa839d89dfb7"
      },
      "execution_count": null,
      "outputs": [
        {
          "output_type": "stream",
          "name": "stdout",
          "text": [
            "[[5.8 2.8 5.1 2.4]\n",
            " [6.  2.2 4.  1. ]\n",
            " [5.5 4.2 1.4 0.2]\n",
            " [7.3 2.9 6.3 1.8]\n",
            " [5.  3.4 1.5 0.2]]\n"
          ]
        }
      ]
    },
    {
      "cell_type": "code",
      "source": [
        "print(y_test[0:5])"
      ],
      "metadata": {
        "colab": {
          "base_uri": "https://localhost:8080/"
        },
        "id": "3G3H_j-XSfvO",
        "outputId": "933a44d7-6180-4f1b-ac6b-12a0d414e047"
      },
      "execution_count": null,
      "outputs": [
        {
          "output_type": "stream",
          "name": "stdout",
          "text": [
            "[[0 0 1]\n",
            " [0 1 0]\n",
            " [1 0 0]\n",
            " [0 0 1]\n",
            " [1 0 0]]\n"
          ]
        }
      ]
    },
    {
      "cell_type": "code",
      "source": [
        "model = tf.keras.Sequential([\n",
        "    tf.keras.layers.Dense(10, activation='relu'),\n",
        "    tf.keras.layers.Dense(10, activation='relu'),\n",
        "    tf.keras.layers.Dense(3, activation='softmax')\n",
        "  ])\n",
        "model"
      ],
      "metadata": {
        "colab": {
          "base_uri": "https://localhost:8080/"
        },
        "id": "3f_HmIH3SjPw",
        "outputId": "bd7ba674-e47e-4cc9-c20b-4561ab366aa4"
      },
      "execution_count": null,
      "outputs": [
        {
          "output_type": "execute_result",
          "data": {
            "text/plain": [
              "<keras.engine.sequential.Sequential at 0x7fc8520c12d0>"
            ]
          },
          "metadata": {},
          "execution_count": 16
        }
      ]
    },
    {
      "cell_type": "code",
      "source": [
        "model.compile(optimizer='rmsprop',\n",
        "              loss='categorical_crossentropy',\n",
        "              metrics=['accuracy'])"
      ],
      "metadata": {
        "id": "SUYRVQPoSn_g"
      },
      "execution_count": null,
      "outputs": []
    },
    {
      "cell_type": "code",
      "source": [
        "history=model.fit(X_train, y_train, batch_size=50, epochs=150)"
      ],
      "metadata": {
        "colab": {
          "base_uri": "https://localhost:8080/"
        },
        "id": "xN-vDKC_Srk1",
        "outputId": "a67d8a93-53d3-4870-870d-4ec8368c0509"
      },
      "execution_count": null,
      "outputs": [
        {
          "output_type": "stream",
          "name": "stdout",
          "text": [
            "Epoch 1/150\n",
            "3/3 [==============================] - 1s 7ms/step - loss: 1.3860 - accuracy: 0.3250\n",
            "Epoch 2/150\n",
            "3/3 [==============================] - 0s 8ms/step - loss: 1.2425 - accuracy: 0.3250\n",
            "Epoch 3/150\n",
            "3/3 [==============================] - 0s 6ms/step - loss: 1.1612 - accuracy: 0.3667\n",
            "Epoch 4/150\n",
            "3/3 [==============================] - 0s 6ms/step - loss: 1.1014 - accuracy: 0.6333\n",
            "Epoch 5/150\n",
            "3/3 [==============================] - 0s 5ms/step - loss: 1.0554 - accuracy: 0.6917\n",
            "Epoch 6/150\n",
            "3/3 [==============================] - 0s 5ms/step - loss: 1.0168 - accuracy: 0.6917\n",
            "Epoch 7/150\n",
            "3/3 [==============================] - 0s 5ms/step - loss: 0.9803 - accuracy: 0.6917\n",
            "Epoch 8/150\n",
            "3/3 [==============================] - 0s 7ms/step - loss: 0.9495 - accuracy: 0.6917\n",
            "Epoch 9/150\n",
            "3/3 [==============================] - 0s 6ms/step - loss: 0.9241 - accuracy: 0.6917\n",
            "Epoch 10/150\n",
            "3/3 [==============================] - 0s 6ms/step - loss: 0.8989 - accuracy: 0.6917\n",
            "Epoch 11/150\n",
            "3/3 [==============================] - 0s 5ms/step - loss: 0.8786 - accuracy: 0.6917\n",
            "Epoch 12/150\n",
            "3/3 [==============================] - 0s 5ms/step - loss: 0.8611 - accuracy: 0.6917\n",
            "Epoch 13/150\n",
            "3/3 [==============================] - 0s 12ms/step - loss: 0.8439 - accuracy: 0.6917\n",
            "Epoch 14/150\n",
            "3/3 [==============================] - 0s 11ms/step - loss: 0.8296 - accuracy: 0.6917\n",
            "Epoch 15/150\n",
            "3/3 [==============================] - 0s 8ms/step - loss: 0.8106 - accuracy: 0.6917\n",
            "Epoch 16/150\n",
            "3/3 [==============================] - 0s 7ms/step - loss: 0.7913 - accuracy: 0.6917\n",
            "Epoch 17/150\n",
            "3/3 [==============================] - 0s 5ms/step - loss: 0.7730 - accuracy: 0.6917\n",
            "Epoch 18/150\n",
            "3/3 [==============================] - 0s 8ms/step - loss: 0.7583 - accuracy: 0.6917\n",
            "Epoch 19/150\n",
            "3/3 [==============================] - 0s 9ms/step - loss: 0.7450 - accuracy: 0.6917\n",
            "Epoch 20/150\n",
            "3/3 [==============================] - 0s 14ms/step - loss: 0.7302 - accuracy: 0.6917\n",
            "Epoch 21/150\n",
            "3/3 [==============================] - 0s 5ms/step - loss: 0.7192 - accuracy: 0.6917\n",
            "Epoch 22/150\n",
            "3/3 [==============================] - 0s 8ms/step - loss: 0.7072 - accuracy: 0.6917\n",
            "Epoch 23/150\n",
            "3/3 [==============================] - 0s 11ms/step - loss: 0.6942 - accuracy: 0.6917\n",
            "Epoch 24/150\n",
            "3/3 [==============================] - 0s 9ms/step - loss: 0.6820 - accuracy: 0.6917\n",
            "Epoch 25/150\n",
            "3/3 [==============================] - 0s 14ms/step - loss: 0.6688 - accuracy: 0.6917\n",
            "Epoch 26/150\n",
            "3/3 [==============================] - 0s 8ms/step - loss: 0.6591 - accuracy: 0.6917\n",
            "Epoch 27/150\n",
            "3/3 [==============================] - 0s 6ms/step - loss: 0.6490 - accuracy: 0.6917\n",
            "Epoch 28/150\n",
            "3/3 [==============================] - 0s 9ms/step - loss: 0.6426 - accuracy: 0.6917\n",
            "Epoch 29/150\n",
            "3/3 [==============================] - 0s 10ms/step - loss: 0.6319 - accuracy: 0.6917\n",
            "Epoch 30/150\n",
            "3/3 [==============================] - 0s 12ms/step - loss: 0.6235 - accuracy: 0.6917\n",
            "Epoch 31/150\n",
            "3/3 [==============================] - 0s 13ms/step - loss: 0.6160 - accuracy: 0.6917\n",
            "Epoch 32/150\n",
            "3/3 [==============================] - 0s 11ms/step - loss: 0.6069 - accuracy: 0.6917\n",
            "Epoch 33/150\n",
            "3/3 [==============================] - 0s 12ms/step - loss: 0.5996 - accuracy: 0.6917\n",
            "Epoch 34/150\n",
            "3/3 [==============================] - 0s 13ms/step - loss: 0.5916 - accuracy: 0.7083\n",
            "Epoch 35/150\n",
            "3/3 [==============================] - 0s 10ms/step - loss: 0.5854 - accuracy: 0.7083\n",
            "Epoch 36/150\n",
            "3/3 [==============================] - 0s 8ms/step - loss: 0.5758 - accuracy: 0.7167\n",
            "Epoch 37/150\n",
            "3/3 [==============================] - 0s 11ms/step - loss: 0.5682 - accuracy: 0.6917\n",
            "Epoch 38/150\n",
            "3/3 [==============================] - 0s 12ms/step - loss: 0.5682 - accuracy: 0.7000\n",
            "Epoch 39/150\n",
            "3/3 [==============================] - 0s 11ms/step - loss: 0.5574 - accuracy: 0.7167\n",
            "Epoch 40/150\n",
            "3/3 [==============================] - 0s 5ms/step - loss: 0.5482 - accuracy: 0.7500\n",
            "Epoch 41/150\n",
            "3/3 [==============================] - 0s 8ms/step - loss: 0.5409 - accuracy: 0.8000\n",
            "Epoch 42/150\n",
            "3/3 [==============================] - 0s 11ms/step - loss: 0.5343 - accuracy: 0.7083\n",
            "Epoch 43/150\n",
            "3/3 [==============================] - 0s 4ms/step - loss: 0.5276 - accuracy: 0.6917\n",
            "Epoch 44/150\n",
            "3/3 [==============================] - 0s 6ms/step - loss: 0.5207 - accuracy: 0.7167\n",
            "Epoch 45/150\n",
            "3/3 [==============================] - 0s 13ms/step - loss: 0.5148 - accuracy: 0.8000\n",
            "Epoch 46/150\n",
            "3/3 [==============================] - 0s 9ms/step - loss: 0.5078 - accuracy: 0.7667\n",
            "Epoch 47/150\n",
            "3/3 [==============================] - 0s 5ms/step - loss: 0.5015 - accuracy: 0.7250\n",
            "Epoch 48/150\n",
            "3/3 [==============================] - 0s 4ms/step - loss: 0.4949 - accuracy: 0.8083\n",
            "Epoch 49/150\n",
            "3/3 [==============================] - 0s 4ms/step - loss: 0.4894 - accuracy: 0.8333\n",
            "Epoch 50/150\n",
            "3/3 [==============================] - 0s 3ms/step - loss: 0.4847 - accuracy: 0.7500\n",
            "Epoch 51/150\n",
            "3/3 [==============================] - 0s 4ms/step - loss: 0.4777 - accuracy: 0.7250\n",
            "Epoch 52/150\n",
            "3/3 [==============================] - 0s 4ms/step - loss: 0.4711 - accuracy: 0.8333\n",
            "Epoch 53/150\n",
            "3/3 [==============================] - 0s 6ms/step - loss: 0.4662 - accuracy: 0.8250\n",
            "Epoch 54/150\n",
            "3/3 [==============================] - 0s 4ms/step - loss: 0.4606 - accuracy: 0.8250\n",
            "Epoch 55/150\n",
            "3/3 [==============================] - 0s 5ms/step - loss: 0.4618 - accuracy: 0.8333\n",
            "Epoch 56/150\n",
            "3/3 [==============================] - 0s 6ms/step - loss: 0.4505 - accuracy: 0.8417\n",
            "Epoch 57/150\n",
            "3/3 [==============================] - 0s 4ms/step - loss: 0.4470 - accuracy: 0.8333\n",
            "Epoch 58/150\n",
            "3/3 [==============================] - 0s 4ms/step - loss: 0.4417 - accuracy: 0.8750\n",
            "Epoch 59/150\n",
            "3/3 [==============================] - 0s 4ms/step - loss: 0.4361 - accuracy: 0.8333\n",
            "Epoch 60/150\n",
            "3/3 [==============================] - 0s 4ms/step - loss: 0.4309 - accuracy: 0.8417\n",
            "Epoch 61/150\n",
            "3/3 [==============================] - 0s 4ms/step - loss: 0.4267 - accuracy: 0.8333\n",
            "Epoch 62/150\n",
            "3/3 [==============================] - 0s 4ms/step - loss: 0.4222 - accuracy: 0.8417\n",
            "Epoch 63/150\n",
            "3/3 [==============================] - 0s 5ms/step - loss: 0.4175 - accuracy: 0.9167\n",
            "Epoch 64/150\n",
            "3/3 [==============================] - 0s 5ms/step - loss: 0.4143 - accuracy: 0.9250\n",
            "Epoch 65/150\n",
            "3/3 [==============================] - 0s 4ms/step - loss: 0.4085 - accuracy: 0.8417\n",
            "Epoch 66/150\n",
            "3/3 [==============================] - 0s 5ms/step - loss: 0.4034 - accuracy: 0.9250\n",
            "Epoch 67/150\n",
            "3/3 [==============================] - 0s 4ms/step - loss: 0.4034 - accuracy: 0.8500\n",
            "Epoch 68/150\n",
            "3/3 [==============================] - 0s 4ms/step - loss: 0.3967 - accuracy: 0.9167\n",
            "Epoch 69/150\n",
            "3/3 [==============================] - 0s 4ms/step - loss: 0.3919 - accuracy: 0.9250\n",
            "Epoch 70/150\n",
            "3/3 [==============================] - 0s 5ms/step - loss: 0.3875 - accuracy: 0.9167\n",
            "Epoch 71/150\n",
            "3/3 [==============================] - 0s 4ms/step - loss: 0.3843 - accuracy: 0.8750\n",
            "Epoch 72/150\n",
            "3/3 [==============================] - 0s 4ms/step - loss: 0.3796 - accuracy: 0.8833\n",
            "Epoch 73/150\n",
            "3/3 [==============================] - 0s 5ms/step - loss: 0.3751 - accuracy: 0.8917\n",
            "Epoch 74/150\n",
            "3/3 [==============================] - 0s 4ms/step - loss: 0.3710 - accuracy: 0.9250\n",
            "Epoch 75/150\n",
            "3/3 [==============================] - 0s 6ms/step - loss: 0.3665 - accuracy: 0.9250\n",
            "Epoch 76/150\n",
            "3/3 [==============================] - 0s 4ms/step - loss: 0.3621 - accuracy: 0.9000\n",
            "Epoch 77/150\n",
            "3/3 [==============================] - 0s 4ms/step - loss: 0.3572 - accuracy: 0.9333\n",
            "Epoch 78/150\n",
            "3/3 [==============================] - 0s 4ms/step - loss: 0.3535 - accuracy: 0.8917\n",
            "Epoch 79/150\n",
            "3/3 [==============================] - 0s 6ms/step - loss: 0.3516 - accuracy: 0.9417\n",
            "Epoch 80/150\n",
            "3/3 [==============================] - 0s 7ms/step - loss: 0.3468 - accuracy: 0.9583\n",
            "Epoch 81/150\n",
            "3/3 [==============================] - 0s 4ms/step - loss: 0.3441 - accuracy: 0.9583\n",
            "Epoch 82/150\n",
            "3/3 [==============================] - 0s 4ms/step - loss: 0.3393 - accuracy: 0.9000\n",
            "Epoch 83/150\n",
            "3/3 [==============================] - 0s 4ms/step - loss: 0.3355 - accuracy: 0.9500\n",
            "Epoch 84/150\n",
            "3/3 [==============================] - 0s 4ms/step - loss: 0.3350 - accuracy: 0.9083\n",
            "Epoch 85/150\n",
            "3/3 [==============================] - 0s 5ms/step - loss: 0.3303 - accuracy: 0.9250\n",
            "Epoch 86/150\n",
            "3/3 [==============================] - 0s 5ms/step - loss: 0.3255 - accuracy: 0.9333\n",
            "Epoch 87/150\n",
            "3/3 [==============================] - 0s 4ms/step - loss: 0.3228 - accuracy: 0.9583\n",
            "Epoch 88/150\n",
            "3/3 [==============================] - 0s 4ms/step - loss: 0.3205 - accuracy: 0.9750\n",
            "Epoch 89/150\n",
            "3/3 [==============================] - 0s 4ms/step - loss: 0.3158 - accuracy: 0.9583\n",
            "Epoch 90/150\n",
            "3/3 [==============================] - 0s 4ms/step - loss: 0.3154 - accuracy: 0.9750\n",
            "Epoch 91/150\n",
            "3/3 [==============================] - 0s 4ms/step - loss: 0.3090 - accuracy: 0.9500\n",
            "Epoch 92/150\n",
            "3/3 [==============================] - 0s 5ms/step - loss: 0.3056 - accuracy: 0.9417\n",
            "Epoch 93/150\n",
            "3/3 [==============================] - 0s 5ms/step - loss: 0.3032 - accuracy: 0.9333\n",
            "Epoch 94/150\n",
            "3/3 [==============================] - 0s 4ms/step - loss: 0.3028 - accuracy: 0.9333\n",
            "Epoch 95/150\n",
            "3/3 [==============================] - 0s 4ms/step - loss: 0.3014 - accuracy: 0.9333\n",
            "Epoch 96/150\n",
            "3/3 [==============================] - 0s 4ms/step - loss: 0.2934 - accuracy: 0.9667\n",
            "Epoch 97/150\n",
            "3/3 [==============================] - 0s 4ms/step - loss: 0.2906 - accuracy: 0.9583\n",
            "Epoch 98/150\n",
            "3/3 [==============================] - 0s 4ms/step - loss: 0.2881 - accuracy: 0.9667\n",
            "Epoch 99/150\n",
            "3/3 [==============================] - 0s 4ms/step - loss: 0.2846 - accuracy: 0.9500\n",
            "Epoch 100/150\n",
            "3/3 [==============================] - 0s 4ms/step - loss: 0.2819 - accuracy: 0.9333\n",
            "Epoch 101/150\n",
            "3/3 [==============================] - 0s 5ms/step - loss: 0.2785 - accuracy: 0.9583\n",
            "Epoch 102/150\n",
            "3/3 [==============================] - 0s 4ms/step - loss: 0.2745 - accuracy: 0.9667\n",
            "Epoch 103/150\n",
            "3/3 [==============================] - 0s 5ms/step - loss: 0.2735 - accuracy: 0.9750\n",
            "Epoch 104/150\n",
            "3/3 [==============================] - 0s 4ms/step - loss: 0.2693 - accuracy: 0.9583\n",
            "Epoch 105/150\n",
            "3/3 [==============================] - 0s 4ms/step - loss: 0.2662 - accuracy: 0.9583\n",
            "Epoch 106/150\n",
            "3/3 [==============================] - 0s 7ms/step - loss: 0.2633 - accuracy: 0.9583\n",
            "Epoch 107/150\n",
            "3/3 [==============================] - 0s 6ms/step - loss: 0.2599 - accuracy: 0.9667\n",
            "Epoch 108/150\n",
            "3/3 [==============================] - 0s 4ms/step - loss: 0.2620 - accuracy: 0.9417\n",
            "Epoch 109/150\n",
            "3/3 [==============================] - 0s 5ms/step - loss: 0.2570 - accuracy: 0.9583\n",
            "Epoch 110/150\n",
            "3/3 [==============================] - 0s 6ms/step - loss: 0.2546 - accuracy: 0.9250\n",
            "Epoch 111/150\n",
            "3/3 [==============================] - 0s 5ms/step - loss: 0.2504 - accuracy: 0.9750\n",
            "Epoch 112/150\n",
            "3/3 [==============================] - 0s 7ms/step - loss: 0.2481 - accuracy: 0.9583\n",
            "Epoch 113/150\n",
            "3/3 [==============================] - 0s 5ms/step - loss: 0.2461 - accuracy: 0.9583\n",
            "Epoch 114/150\n",
            "3/3 [==============================] - 0s 4ms/step - loss: 0.2449 - accuracy: 0.9750\n",
            "Epoch 115/150\n",
            "3/3 [==============================] - 0s 4ms/step - loss: 0.2406 - accuracy: 0.9667\n",
            "Epoch 116/150\n",
            "3/3 [==============================] - 0s 4ms/step - loss: 0.2385 - accuracy: 0.9750\n",
            "Epoch 117/150\n",
            "3/3 [==============================] - 0s 4ms/step - loss: 0.2361 - accuracy: 0.9667\n",
            "Epoch 118/150\n",
            "3/3 [==============================] - 0s 3ms/step - loss: 0.2402 - accuracy: 0.9750\n",
            "Epoch 119/150\n",
            "3/3 [==============================] - 0s 5ms/step - loss: 0.2328 - accuracy: 0.9667\n",
            "Epoch 120/150\n",
            "3/3 [==============================] - 0s 5ms/step - loss: 0.2363 - accuracy: 0.9583\n",
            "Epoch 121/150\n",
            "3/3 [==============================] - 0s 5ms/step - loss: 0.2275 - accuracy: 0.9750\n",
            "Epoch 122/150\n",
            "3/3 [==============================] - 0s 5ms/step - loss: 0.2260 - accuracy: 0.9667\n",
            "Epoch 123/150\n",
            "3/3 [==============================] - 0s 5ms/step - loss: 0.2242 - accuracy: 0.9667\n",
            "Epoch 124/150\n",
            "3/3 [==============================] - 0s 4ms/step - loss: 0.2227 - accuracy: 0.9750\n",
            "Epoch 125/150\n",
            "3/3 [==============================] - 0s 4ms/step - loss: 0.2191 - accuracy: 0.9667\n",
            "Epoch 126/150\n",
            "3/3 [==============================] - 0s 5ms/step - loss: 0.2170 - accuracy: 0.9750\n",
            "Epoch 127/150\n",
            "3/3 [==============================] - 0s 4ms/step - loss: 0.2269 - accuracy: 0.9667\n",
            "Epoch 128/150\n",
            "3/3 [==============================] - 0s 4ms/step - loss: 0.2144 - accuracy: 0.9583\n",
            "Epoch 129/150\n",
            "3/3 [==============================] - 0s 5ms/step - loss: 0.2129 - accuracy: 0.9667\n",
            "Epoch 130/150\n",
            "3/3 [==============================] - 0s 5ms/step - loss: 0.2096 - accuracy: 0.9750\n",
            "Epoch 131/150\n",
            "3/3 [==============================] - 0s 4ms/step - loss: 0.2077 - accuracy: 0.9750\n",
            "Epoch 132/150\n",
            "3/3 [==============================] - 0s 4ms/step - loss: 0.2067 - accuracy: 0.9750\n",
            "Epoch 133/150\n",
            "3/3 [==============================] - 0s 4ms/step - loss: 0.2055 - accuracy: 0.9750\n",
            "Epoch 134/150\n",
            "3/3 [==============================] - 0s 7ms/step - loss: 0.2019 - accuracy: 0.9750\n",
            "Epoch 135/150\n",
            "3/3 [==============================] - 0s 4ms/step - loss: 0.2017 - accuracy: 0.9750\n",
            "Epoch 136/150\n",
            "3/3 [==============================] - 0s 4ms/step - loss: 0.1993 - accuracy: 0.9667\n",
            "Epoch 137/150\n",
            "3/3 [==============================] - 0s 4ms/step - loss: 0.1973 - accuracy: 0.9750\n",
            "Epoch 138/150\n",
            "3/3 [==============================] - 0s 5ms/step - loss: 0.1987 - accuracy: 0.9583\n",
            "Epoch 139/150\n",
            "3/3 [==============================] - 0s 4ms/step - loss: 0.1938 - accuracy: 0.9750\n",
            "Epoch 140/150\n",
            "3/3 [==============================] - 0s 4ms/step - loss: 0.1922 - accuracy: 0.9750\n",
            "Epoch 141/150\n",
            "3/3 [==============================] - 0s 8ms/step - loss: 0.1898 - accuracy: 0.9667\n",
            "Epoch 142/150\n",
            "3/3 [==============================] - 0s 4ms/step - loss: 0.1888 - accuracy: 0.9667\n",
            "Epoch 143/150\n",
            "3/3 [==============================] - 0s 4ms/step - loss: 0.1860 - accuracy: 0.9750\n",
            "Epoch 144/150\n",
            "3/3 [==============================] - 0s 4ms/step - loss: 0.1852 - accuracy: 0.9750\n",
            "Epoch 145/150\n",
            "3/3 [==============================] - 0s 4ms/step - loss: 0.1824 - accuracy: 0.9750\n",
            "Epoch 146/150\n",
            "3/3 [==============================] - 0s 4ms/step - loss: 0.1814 - accuracy: 0.9750\n",
            "Epoch 147/150\n",
            "3/3 [==============================] - 0s 6ms/step - loss: 0.1783 - accuracy: 0.9750\n",
            "Epoch 148/150\n",
            "3/3 [==============================] - 0s 4ms/step - loss: 0.1796 - accuracy: 0.9667\n",
            "Epoch 149/150\n",
            "3/3 [==============================] - 0s 4ms/step - loss: 0.1774 - accuracy: 0.9750\n",
            "Epoch 150/150\n",
            "3/3 [==============================] - 0s 4ms/step - loss: 0.1756 - accuracy: 0.9667\n"
          ]
        }
      ]
    },
    {
      "cell_type": "code",
      "source": [
        "model.summary()"
      ],
      "metadata": {
        "colab": {
          "base_uri": "https://localhost:8080/"
        },
        "id": "nFJvwcivPgzU",
        "outputId": "7d7dbca5-a92a-49aa-e7f5-7f0cf6fb7c4d"
      },
      "execution_count": null,
      "outputs": [
        {
          "output_type": "stream",
          "name": "stdout",
          "text": [
            "Model: \"sequential\"\n",
            "_________________________________________________________________\n",
            " Layer (type)                Output Shape              Param #   \n",
            "=================================================================\n",
            " dense (Dense)               (None, 10)                50        \n",
            "                                                                 \n",
            " dense_1 (Dense)             (None, 10)                110       \n",
            "                                                                 \n",
            " dense_2 (Dense)             (None, 3)                 33        \n",
            "                                                                 \n",
            "=================================================================\n",
            "Total params: 193\n",
            "Trainable params: 193\n",
            "Non-trainable params: 0\n",
            "_________________________________________________________________\n"
          ]
        }
      ]
    },
    {
      "cell_type": "code",
      "source": [
        "loss = history.history['loss']\n",
        "\n",
        "epochs = range(1, len(loss) + 1)\n",
        "\n",
        "plt.plot(epochs, loss, 'g.', label='Training loss')\n",
        "plt.title('Training loss')\n",
        "plt.xlabel('Epochs')\n",
        "plt.ylabel('Loss')\n",
        "plt.legend()\n",
        "plt.show()"
      ],
      "metadata": {
        "colab": {
          "base_uri": "https://localhost:8080/",
          "height": 295
        },
        "id": "hV0W-1tqKT6E",
        "outputId": "d4f1b89f-415f-4f7d-a371-b8668aba4e9c"
      },
      "execution_count": null,
      "outputs": [
        {
          "output_type": "display_data",
          "data": {
            "text/plain": [
              "<Figure size 432x288 with 1 Axes>"
            ],
            "image/png": "[encoded data removed]"
          },
          "metadata": {
            "needs_background": "light"
          }
        }
      ]
    },
    {
      "cell_type": "code",
      "source": [
        "acu = history.history['accuracy']\n",
        "\n",
        "\n",
        "plt.plot(epochs, acu, 'g.', label='Training Accuracy')\n",
        "\n",
        "plt.title('Training Accuracy')\n",
        "plt.xlabel('Epochs')\n",
        "plt.ylabel('Acurracy')\n",
        "plt.legend()\n",
        "plt.show()"
      ],
      "metadata": {
        "colab": {
          "base_uri": "https://localhost:8080/",
          "height": 295
        },
        "id": "DTQ3xSjOKzBU",
        "outputId": "e491db05-f08a-485e-f7f9-ada2f3b4024b"
      },
      "execution_count": null,
      "outputs": [
        {
          "output_type": "display_data",
          "data": {
            "text/plain": [
              "<Figure size 432x288 with 1 Axes>"
            ],
            "image/png": "[encoded data removed]"
          },
          "metadata": {
            "needs_background": "light"
          }
        }
      ]
    },
    {
      "cell_type": "markdown",
      "source": [
        "Explica qué son los parámetros e indica que significan los números que se muestran en cada capa."
      ],
      "metadata": {
        "id": "x9KarG2oWXOl"
      }
    },
    {
      "cell_type": "markdown",
      "source": [
        "Los parametros son los datos con los que se estan trabajando en cada capa. Los numeros que se meustran en cada capa son la cantidad de neuronas de la capa."
      ],
      "metadata": {
        "id": "WVQNkSNLWY62"
      }
    },
    {
      "cell_type": "code",
      "source": [
        "loss, accuracy = model.evaluate(X_test, y_test, verbose=0)\n",
        "print('Test loss:', loss)\n",
        "print('Test accuracy:', accuracy)"
      ],
      "metadata": {
        "colab": {
          "base_uri": "https://localhost:8080/"
        },
        "id": "f8Qaic3-SwxN",
        "outputId": "27e55f39-d1d5-4630-c43c-1b16d28bd6d0"
      },
      "execution_count": null,
      "outputs": [
        {
          "output_type": "stream",
          "name": "stdout",
          "text": [
            "Test loss: 0.1505614072084427\n",
            "Test accuracy: 1.0\n"
          ]
        }
      ]
    },
    {
      "cell_type": "code",
      "source": [
        "y_pred = model.predict(X_test)\n",
        "y_pred"
      ],
      "metadata": {
        "colab": {
          "base_uri": "https://localhost:8080/"
        },
        "id": "OSn3dmluTB4R",
        "outputId": "28c597a2-12b2-4b4b-fc65-e6f45fd5e91f"
      },
      "execution_count": null,
      "outputs": [
        {
          "output_type": "stream",
          "name": "stdout",
          "text": [
            "1/1 [==============================] - 0s 78ms/step\n"
          ]
        },
        {
          "output_type": "execute_result",
          "data": {
            "text/plain": [
              "array([[3.9539915e-05, 3.9571304e-02, 9.6038908e-01],\n",
              "       [7.0287832e-03, 9.1461641e-01, 7.8354768e-02],\n",
              "       [9.9780893e-01, 2.0154004e-03, 1.7557426e-04],\n",
              "       [8.9641137e-05, 2.1870223e-01, 7.8120810e-01],\n",
              "       [9.9493653e-01, 4.6087666e-03, 4.5469482e-04],\n",
              "       [7.4214709e-06, 1.6597765e-02, 9.8339492e-01],\n",
              "       [9.9548280e-01, 4.0936628e-03, 4.2351469e-04],\n",
              "       [2.0414169e-03, 8.3922976e-01, 1.5872887e-01],\n",
              "       [1.8329872e-03, 8.5265410e-01, 1.4551297e-01],\n",
              "       [5.5804257e-03, 9.0801442e-01, 8.6405218e-02],\n",
              "       [3.1711857e-04, 2.6792797e-01, 7.3175484e-01],\n",
              "       [2.6302258e-03, 8.2883751e-01, 1.6853225e-01],\n",
              "       [2.4859726e-03, 7.9016781e-01, 2.0734613e-01],\n",
              "       [2.0174296e-03, 7.9637712e-01, 2.0160547e-01],\n",
              "       [1.9556317e-03, 6.9742197e-01, 3.0062255e-01],\n",
              "       [9.9502832e-01, 4.5146071e-03, 4.5712973e-04],\n",
              "       [2.1657504e-03, 6.8417668e-01, 3.1365755e-01],\n",
              "       [3.0112199e-03, 6.8951148e-01, 3.0747721e-01],\n",
              "       [9.9295920e-01, 6.3495375e-03, 6.9130381e-04],\n",
              "       [9.9705362e-01, 2.6905471e-03, 2.5582203e-04],\n",
              "       [1.8804701e-04, 1.1368380e-01, 8.8612807e-01],\n",
              "       [1.9175500e-03, 5.3979182e-01, 4.5829061e-01],\n",
              "       [9.8199326e-01, 1.6458143e-02, 1.5485237e-03],\n",
              "       [9.8943812e-01, 9.4657345e-03, 1.0961198e-03],\n",
              "       [7.6933316e-04, 4.2009452e-01, 5.7913613e-01],\n",
              "       [9.9468201e-01, 4.7925659e-03, 5.2542880e-04],\n",
              "       [9.8540199e-01, 1.3403294e-02, 1.1946304e-03],\n",
              "       [3.6675974e-03, 8.8124269e-01, 1.1508971e-01],\n",
              "       [1.7587204e-02, 8.8485599e-01, 9.7556800e-02],\n",
              "       [9.9066329e-01, 8.4927976e-03, 8.4385875e-04]], dtype=float32)"
            ]
          },
          "metadata": {},
          "execution_count": 23
        }
      ]
    },
    {
      "cell_type": "code",
      "source": [
        "actual = np.argmax(y_test,axis=1)\n",
        "predicted = np.argmax(y_pred,axis=1)\n",
        "print(f\"Actual: {actual}\")\n",
        "print(f\"Predicted: {predicted}\")"
      ],
      "metadata": {
        "colab": {
          "base_uri": "https://localhost:8080/"
        },
        "id": "mrx2R6RYTKKf",
        "outputId": "7ef1bc3a-8329-4205-efb6-72432c4d4bb0"
      },
      "execution_count": null,
      "outputs": [
        {
          "output_type": "stream",
          "name": "stdout",
          "text": [
            "Actual: [2 1 0 2 0 2 0 1 1 1 2 1 1 1 1 0 1 1 0 0 2 1 0 0 2 0 0 1 1 0]\n",
            "Predicted: [2 1 0 2 0 2 0 1 1 1 2 1 1 1 1 0 1 1 0 0 2 1 0 0 2 0 0 1 1 0]\n"
          ]
        }
      ]
    }
  ]
}